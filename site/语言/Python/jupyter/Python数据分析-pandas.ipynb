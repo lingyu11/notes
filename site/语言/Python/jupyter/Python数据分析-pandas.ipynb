{
 "cells": [
  {
   "cell_type": "markdown",
   "id": "be5b46f2-4546-4691-a8df-f7df20fee979",
   "metadata": {},
   "source": [
    "# 实操Pandas\n",
    "\n",
    "## 资料\n",
    "* [视频](https://www.bilibili.com/video/BV13t4y1a7TV?spm_id_from=333.788.videopod.sections&vd_source=2a33d03ec3e67e46971208a7faa0dcda)\n",
    "* [文档](https://github.com/jackfrued/Python-100-Days/blob/master/Day66-80/68.NumPy%E7%9A%84%E5%BA%94%E7%94%A8-1.md)\n",
    "\n",
    "## 1.1 Pandas的应用\n",
    "Pandas 核心的数据类型是Series（数据系列）、DataFrame（数据窗/数据框），分别用于处理一维和二维的数据，除此之外，还有一个名为Index的类型及其子类型，它们为Series和DataFrame提供了索引功能。\n",
    "\n",
    "1. `Series`: 数据系列，代表一维数据，比numpy中的一位数组强大\n",
    "2. `DataFrame`: 数据窗/数据框/数据表，代表二维数据，封装了数据分析常用的各种方法。\n",
    "3. `Index`: 索引，为`Series`和`DataFrame`提供数据索引服务。"
   ]
  }
 ],
 "metadata": {
  "kernelspec": {
   "display_name": "Python 3 (ipykernel)",
   "language": "python",
   "name": "python3"
  },
  "language_info": {
   "codemirror_mode": {
    "name": "ipython",
    "version": 3
   },
   "file_extension": ".py",
   "mimetype": "text/x-python",
   "name": "python",
   "nbconvert_exporter": "python",
   "pygments_lexer": "ipython3",
   "version": "3.8.18"
  }
 },
 "nbformat": 4,
 "nbformat_minor": 5
}
