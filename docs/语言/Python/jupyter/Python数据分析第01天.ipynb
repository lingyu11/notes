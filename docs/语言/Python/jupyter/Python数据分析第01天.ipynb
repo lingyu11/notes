{
 "cells": [
  {
   "cell_type": "code",
   "execution_count": 1,
   "id": "a9fac9b5-f81f-420d-a9b3-da5ee3df7fa3",
   "metadata": {},
   "outputs": [],
   "source": [
    "names = ['孙悟空', '李元芳', '白起', '狄仁杰', '达摩']\n",
    "courses = ['语文', '数学', '英语']"
   ]
  },
  {
   "cell_type": "code",
   "execution_count": 2,
   "id": "870832ab-12ea-4bdf-8868-37f3a9173478",
   "metadata": {},
   "outputs": [
    {
     "data": {
      "text/plain": [
       "[[97, 84, 68], [95, 82, 82], [77, 76, 68], [84, 78, 82], [99, 69, 81]]"
      ]
     },
     "execution_count": 2,
     "metadata": {},
     "output_type": "execute_result"
    }
   ],
   "source": [
    "import random\n",
    "scores = [[random.randrange(60, 101) for _ in range(3)] for _ in range(5)]\n",
    "scores"
   ]
  },
  {
   "cell_type": "code",
   "execution_count": 3,
   "id": "23e12efa-a546-4ef2-add9-cfc2718bd5aa",
   "metadata": {},
   "outputs": [
    {
     "name": "stdout",
     "output_type": "stream",
     "text": [
      "孙悟空考试平均分为：83.0分\n",
      "李元芳考试平均分为：86.3分\n",
      "白起考试平均分为：73.7分\n",
      "狄仁杰考试平均分为：81.3分\n",
      "达摩考试平均分为：83.0分\n"
     ]
    }
   ],
   "source": [
    "# 统计每个学生的考试平均分\n",
    "for idx, name in enumerate(names):\n",
    "    temp = scores[idx]\n",
    "    avg_score = sum(temp) / len(temp)\n",
    "    print(f'{name}考试平均分为：{avg_score:.1f}分')"
   ]
  },
  {
   "cell_type": "markdown",
   "id": "43e665c1-02b4-4c92-9034-7613003bac1b",
   "metadata": {},
   "source": [
    "总体方差：\n",
    "\n",
    "$$ \\sigma^2 = \\frac {1} {N} \\sum_{i=1}^{N} {(x_i - \\mu)^2)} $$\n",
    "\n",
    "总体标准差：\n",
    "\n",
    "$$ \\sigma = \\sqrt {\\frac {1} {N} \\sum_{i=1}^{N} {(x_i - \\mu)^2)}} $$"
   ]
  },
  {
   "cell_type": "code",
   "execution_count": 6,
   "id": "356ee69e-9996-4550-a0b3-e41f5b9d0c25",
   "metadata": {},
   "outputs": [],
   "source": [
    "def mean(nums):\n",
    "    \"\"\"求均值\"\"\"\n",
    "    return sum(nums) / len(nums)\n",
    "\n",
    "def variance(nums):\n",
    "    \"\"\"求方差\"\"\"\n",
    "    mean_value = mean(nums)\n",
    "    return mean([(num - mean_value) ** 2 for num in nums])\n",
    "\n",
    "def stddev(nums):\n",
    "    \"\"\"求标准差\"\"\"\n",
    "    return variance(nums) ** 0.5"
   ]
  },
  {
   "cell_type": "code",
   "execution_count": 7,
   "id": "e2d345be-7472-4fcd-bfb2-bfddf2ddc1b1",
   "metadata": {},
   "outputs": [
    {
     "name": "stdout",
     "output_type": "stream",
     "text": [
      "语文成绩最高分：99分\n",
      "语文成绩最低分：77分\n",
      "语文成绩标准差：8.475848040166836\n",
      "数学成绩最高分：84分\n",
      "数学成绩最低分：69分\n",
      "数学成绩标准差：5.230678732248808\n",
      "英语成绩最高分：82分\n",
      "英语成绩最低分：68分\n",
      "英语成绩标准差：6.705221845696084\n"
     ]
    }
   ],
   "source": [
    "for idx, course in enumerate(courses):\n",
    "    temp = [scores[i][idx] for i in range(len(names))]\n",
    "    max_score, min_score = max(temp), min(temp)\n",
    "    print(f'{course}成绩最高分：{max_score}分')\n",
    "    print(f'{course}成绩最低分：{min_score}分')\n",
    "    print(f'{course}成绩标准差：{stddev(temp)}')"
   ]
  },
  {
   "cell_type": "code",
   "execution_count": null,
   "id": "f132b954-09a2-4677-a4d1-557fb698ce5f",
   "metadata": {},
   "outputs": [],
   "source": []
  }
 ],
 "metadata": {
  "kernelspec": {
   "display_name": "Python 3 (ipykernel)",
   "language": "python",
   "name": "python3"
  },
  "language_info": {
   "codemirror_mode": {
    "name": "ipython",
    "version": 3
   },
   "file_extension": ".py",
   "mimetype": "text/x-python",
   "name": "python",
   "nbconvert_exporter": "python",
   "pygments_lexer": "ipython3",
   "version": "3.8.18"
  }
 },
 "nbformat": 4,
 "nbformat_minor": 5
}
